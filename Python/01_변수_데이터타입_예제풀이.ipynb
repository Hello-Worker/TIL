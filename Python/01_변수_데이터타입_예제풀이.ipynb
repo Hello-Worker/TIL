{
 "cells": [
  {
   "cell_type": "markdown",
   "metadata": {},
   "source": [
    "1. 주민번호 \"901211-1027213\"의 앞 6자리만 조회해서 출력하시오."
   ]
  },
  {
   "cell_type": "code",
   "execution_count": 1,
   "metadata": {},
   "outputs": [
    {
     "name": "stdout",
     "output_type": "stream",
     "text": [
      "901211\n"
     ]
    }
   ],
   "source": [
    "jumin = \"901211-1027213\"\n",
    "print(jumin[:6])"
   ]
  },
  {
   "cell_type": "markdown",
   "metadata": {},
   "source": [
    "2. \"안녕하세요\"를 10번 출력하시오."
   ]
  },
  {
   "cell_type": "code",
   "execution_count": 2,
   "metadata": {},
   "outputs": [
    {
     "name": "stdout",
     "output_type": "stream",
     "text": [
      "안녕하세요.안녕하세요.안녕하세요.안녕하세요.안녕하세요.안녕하세요.안녕하세요.안녕하세요.안녕하세요.안녕하세요.\n"
     ]
    }
   ],
   "source": [
    "print(\"안녕하세요.\" * 10)"
   ]
  },
  {
   "cell_type": "markdown",
   "metadata": {},
   "source": [
    "3. 아래 변수의 값을 다음과 같은 형태로 출력하시오.\n",
    "name=\"TV\"\n",
    "price=300000\n",
    "maker = \"LG\"\n",
    "\n",
    "\"제품명 : TV, 가격 : 300000, 제조사 : LG\""
   ]
  },
  {
   "cell_type": "code",
   "execution_count": 4,
   "metadata": {},
   "outputs": [
    {
     "name": "stdout",
     "output_type": "stream",
     "text": [
      "제품명:TV, 가격:300000, 제조사:LG\n"
     ]
    }
   ],
   "source": [
    "name=\"TV\" \n",
    "price=300000 \n",
    "maker = \"LG\"\n",
    "f1 = \"제품명:{}, 가격:{}, 제조사:{}\"\n",
    "print(f1.format(name, price, maker))"
   ]
  },
  {
   "cell_type": "markdown",
   "metadata": {},
   "source": [
    "4. fruits = \"사과 복숭아 귤 배\"\n",
    "\n",
    "위 fruits에 \"수박\"이 있는지 확인하는 코드를 작성하시오."
   ]
  },
  {
   "cell_type": "code",
   "execution_count": 5,
   "metadata": {},
   "outputs": [
    {
     "name": "stdout",
     "output_type": "stream",
     "text": [
      "False\n"
     ]
    }
   ],
   "source": [
    "fruits = \"사과 복숭아 귤 배\"\n",
    "print(\"수박\" in fruits)"
   ]
  },
  {
   "cell_type": "markdown",
   "metadata": {},
   "source": [
    "5. str_value에 a가 몇개 있는지 출력하시오.\n",
    "\n",
    "str_value =  \"dfjshdfkjshdjkhasdasd\""
   ]
  },
  {
   "cell_type": "code",
   "execution_count": 8,
   "metadata": {},
   "outputs": [
    {
     "name": "stdout",
     "output_type": "stream",
     "text": [
      "2\n"
     ]
    }
   ],
   "source": [
    "str_value =  \"dfjshdfkjshdjkhasdasd\"\n",
    "print(str_value.count(\"a\"))"
   ]
  },
  {
   "cell_type": "markdown",
   "metadata": {},
   "source": [
    "6. 다음 문자열에서 '-'를 제거 후 출력하세요.\n",
    "\n",
    "tel = \"010-8888-9999\""
   ]
  },
  {
   "cell_type": "code",
   "execution_count": 11,
   "metadata": {},
   "outputs": [
    {
     "name": "stdout",
     "output_type": "stream",
     "text": [
      "['010', '8888', '9999']\n",
      "01088889999\n"
     ]
    }
   ],
   "source": [
    "tel = \"010-8888-9999\"\n",
    "print(tel.split(\"-\"))\n",
    "print(tel.replace('-',''))"
   ]
  },
  {
   "cell_type": "markdown",
   "metadata": {},
   "source": [
    "7. 다음 문자열 \"Niceman\" 에서 \"man\" 문자열만 출력하세요.\n",
    "value = \"Niceman\""
   ]
  },
  {
   "cell_type": "code",
   "execution_count": 14,
   "metadata": {},
   "outputs": [
    {
     "name": "stdout",
     "output_type": "stream",
     "text": [
      "man\n"
     ]
    }
   ],
   "source": [
    "value = \"Niceman\"\n",
    "print(value[4:])"
   ]
  },
  {
   "cell_type": "markdown",
   "metadata": {},
   "source": [
    "8. 다음 문자열(URL)에서 \"http://\" 부분을 제거 후 출력하세요. \n",
    "\n",
    "url = \"http://daum.net\""
   ]
  },
  {
   "cell_type": "code",
   "execution_count": 19,
   "metadata": {},
   "outputs": [
    {
     "name": "stdout",
     "output_type": "stream",
     "text": [
      "daum.net\n"
     ]
    }
   ],
   "source": [
    "url = \"http://daum.net\"\n",
    "print(url.lstrip(\"http://\"))\n",
    "# 물음표. strip함수 쓸시에 ne까지만 출력. why?"
   ]
  },
  {
   "cell_type": "code",
   "execution_count": null,
   "metadata": {},
   "outputs": [],
   "source": []
  }
 ],
 "metadata": {
  "kernelspec": {
   "display_name": "Python 3",
   "language": "python",
   "name": "python3"
  },
  "language_info": {
   "codemirror_mode": {
    "name": "ipython",
    "version": 3
   },
   "file_extension": ".py",
   "mimetype": "text/x-python",
   "name": "python",
   "nbconvert_exporter": "python",
   "pygments_lexer": "ipython3",
   "version": "3.8.5"
  }
 },
 "nbformat": 4,
 "nbformat_minor": 4
}
