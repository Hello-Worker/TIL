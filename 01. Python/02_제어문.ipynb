{
 "cells": [
  {
   "cell_type": "code",
   "execution_count": 1,
   "metadata": {},
   "outputs": [
    {
     "data": {
      "text/plain": [
       "(False, False)"
      ]
     },
     "execution_count": 1,
     "metadata": {},
     "output_type": "execute_result"
    }
   ],
   "source": [
    "bool([]), bool({}) #자료구조: 원소가 0개면 False 1개 이상이면 True"
   ]
  },
  {
   "cell_type": "code",
   "execution_count": 3,
   "metadata": {},
   "outputs": [
    {
     "name": "stdout",
     "output_type": "stream",
     "text": [
      "0입니다.\n",
      "종료\n"
     ]
    }
   ],
   "source": [
    "num = 0\n",
    "if num == 0:\n",
    "    print(\"0입니다.\")\n",
    "print(\"종료\")"
   ]
  },
  {
   "cell_type": "code",
   "execution_count": null,
   "metadata": {},
   "outputs": [],
   "source": [
    "num = 10\n",
    "# if조건: - 조건: bool타입이 들어와야 하는곳. 다른 타입의 값이 들어오면 자동으로 bool로 변환.\n",
    "if not num:\n",
    "    print(\"0입니다.\")\n",
    "print(\"종료\")"
   ]
  },
  {
   "cell_type": "code",
   "execution_count": 5,
   "metadata": {},
   "outputs": [],
   "source": [
    "#숫자: 0, 0 => False 나머진: True"
   ]
  },
  {
   "cell_type": "code",
   "execution_count": 7,
   "metadata": {},
   "outputs": [
    {
     "data": {
      "text/plain": [
       "False"
      ]
     },
     "execution_count": 7,
     "metadata": {},
     "output_type": "execute_result"
    }
   ],
   "source": [
    "bool(num)"
   ]
  },
  {
   "cell_type": "code",
   "execution_count": 9,
   "metadata": {},
   "outputs": [
    {
     "data": {
      "text/plain": [
       "True"
      ]
     },
     "execution_count": 9,
     "metadata": {},
     "output_type": "execute_result"
    }
   ],
   "source": [
    "not bool(num) # not True => False"
   ]
  },
  {
   "cell_type": "code",
   "execution_count": 10,
   "metadata": {},
   "outputs": [],
   "source": [
    "my_name = \"aaa\""
   ]
  },
  {
   "cell_type": "code",
   "execution_count": 11,
   "metadata": {},
   "outputs": [],
   "source": [
    "# ?print #?함수설명"
   ]
  },
  {
   "cell_type": "code",
   "execution_count": 12,
   "metadata": {},
   "outputs": [
    {
     "data": {
      "text/plain": [
       "<function print>"
      ]
     },
     "execution_count": 12,
     "metadata": {},
     "output_type": "execute_result"
    }
   ],
   "source": [
    "# tab: 자동완성\n",
    "print # shift+tab"
   ]
  },
  {
   "cell_type": "code",
   "execution_count": null,
   "metadata": {},
   "outputs": [],
   "source": [
    "num = 10 \n",
    "if num > 0:\n",
    "    print(\"양수\")\n",
    "elif num == 0:\n",
    "    print(\"0\")\n",
    "elif num < 0:\n",
    "    print(\"음수\")"
   ]
  },
  {
   "cell_type": "code",
   "execution_count": 19,
   "metadata": {},
   "outputs": [
    {
     "name": "stdout",
     "output_type": "stream",
     "text": [
      "서울특별시\n"
     ]
    }
   ],
   "source": [
    "city= '서울'\n",
    "if city == \"서울\":\n",
    "    print(f\"{city}특별시\")"
   ]
  },
  {
   "cell_type": "markdown",
   "metadata": {},
   "source": [
    "# 반복문\n",
    "- while문\n",
    "    - 조건이 True인 동안 반복\n",
    "- for in문\n",
    "    - 문자열, 자료구조(리스트, 튜플, 셋, 딕셔너리)의 원소들을 \n",
    "    하나씩 모두 조회할 때 사용\n",
    "\n",
    "## while문\n",
    "- 대입연산자\n",
    "    - 변수 = 값\n",
    "    - 변수 연산자 = 값 :: 변수 = 변수 연산자 값\n",
    "            - a += 10 :: a = a + 10"
   ]
  },
  {
   "cell_type": "code",
   "execution_count": 22,
   "metadata": {},
   "outputs": [
    {
     "name": "stdout",
     "output_type": "stream",
     "text": [
      "안녕하세요\n",
      "안녕하세요\n",
      "안녕하세요\n",
      "안녕하세요\n",
      "안녕하세요\n",
      "안녕하세요\n",
      "안녕하세요\n",
      "안녕하세요\n",
      "안녕하세요\n",
      "안녕하세요\n",
      "종료\n"
     ]
    }
   ],
   "source": [
    "cnt = 0 \n",
    "#초기식 - 조건에서 사용되면서 조건을 False로 바꿀 때 사용할 값.\n",
    "# 이 값은 반복 구문에 사용할 수 있다.\n",
    "while cnt < 10: #조건식\n",
    "    print(\"안녕하세요\")\n",
    "    cnt += 1 # cnt+1증감식\n",
    "    # cnt=0에서 시작 -> 조건 비교 -> 안녕하세요 출력 -> cnt에 1을 더해줌. \n",
    "    # cnt=1에서 시작 -> 조건 비교 -> 안녕하세요 출력 -> cnt에 1을 더해줌.\n",
    "    # ...\n",
    "    # cnt=10에서 시작 -> 조건 비교 -> False이므로 반복 탈출 -> 종료출력\n",
    "print(\"종료\")\n"
   ]
  },
  {
   "cell_type": "code",
   "execution_count": 23,
   "metadata": {},
   "outputs": [
    {
     "name": "stdout",
     "output_type": "stream",
     "text": [
      "5\n",
      "10\n",
      "15\n",
      "20\n",
      "25\n",
      "30\n",
      "35\n",
      "40\n",
      "45\n",
      "50\n",
      "55\n",
      "60\n",
      "65\n",
      "70\n",
      "75\n",
      "80\n",
      "85\n",
      "90\n",
      "95\n",
      "100\n"
     ]
    }
   ],
   "source": [
    "# 1~100중에서 5의 배수만 출력.\n",
    "cnt = 1\n",
    "while cnt <= 100:\n",
    "    if cnt % 5 == 0: #5의나머지가 0 = 5의 배수\n",
    "        print(cnt) #현재의 cnt값을 출력\n",
    "    cnt += 1"
   ]
  },
  {
   "cell_type": "markdown",
   "metadata": {},
   "source": [
    "## for in문\n",
    "    for 변수 in iterable:\n",
    "        반복할 구문"
   ]
  },
  {
   "cell_type": "code",
   "execution_count": 27,
   "metadata": {},
   "outputs": [
    {
     "name": "stdout",
     "output_type": "stream",
     "text": [
      "사과\n",
      "복숭아\n",
      "귤\n"
     ]
    }
   ],
   "source": [
    "fruits = ['사과', '복숭아', '귤']\n",
    "\n",
    "index = 0 #리스트의 index\n",
    "length = len(fruits) #fruits의 글자수, 배열의 경우 요소의 개수\n",
    "\n",
    "while index < length: # index가 요소의 개수보다 커지기전까지 반복\n",
    "    fruit = fruits[index] #fruits 변수에 fruits[index]인덱스 값 대입\n",
    "    print(fruit)\n",
    "    index +=1 # 인덱스값 1씩증가\n",
    "    \n",
    "# 1. index 0으로 초기값\n",
    "# 2. length에 fruits 배열의 요소개수 대입\n",
    "# 3. index<length일 때 계속 반복\n",
    "# 4. fruit 새 변수에 fruits[0]대입\n",
    "# 5. fruit값 출력(fruits[0]인 사과 출력)\n",
    "# 6. index값 1증가시킴. index=1\n",
    "# 7. index<length일 때 계속 반복.\n",
    "# 8. fruit 변수에 fruits[1]대입\n",
    "# 9. fruit 값 출력(fruits[1]인 복숭아 출력)\n",
    "# 10. ...\n",
    "    \n"
   ]
  },
  {
   "cell_type": "code",
   "execution_count": 28,
   "metadata": {},
   "outputs": [
    {
     "name": "stdout",
     "output_type": "stream",
     "text": [
      "사과\n",
      "복숭아\n",
      "귤\n"
     ]
    }
   ],
   "source": [
    "fruits = ['사과', '복숭아', '귤']\n",
    "for fruit in fruits:\n",
    "    print(fruit)"
   ]
  },
  {
   "cell_type": "code",
   "execution_count": 1,
   "metadata": {},
   "outputs": [
    {
     "name": "stdout",
     "output_type": "stream",
     "text": [
      "1\n",
      "2\n",
      "3\n",
      "4\n",
      "5\n"
     ]
    }
   ],
   "source": [
    "for num in (1,2,3,4,5):\n",
    "    print(num)"
   ]
  },
  {
   "cell_type": "code",
   "execution_count": 2,
   "metadata": {},
   "outputs": [
    {
     "ename": "SyntaxError",
     "evalue": "invalid syntax (<ipython-input-2-dd1e34aea5e7>, line 1)",
     "output_type": "error",
     "traceback": [
      "\u001b[1;36m  File \u001b[1;32m\"<ipython-input-2-dd1e34aea5e7>\"\u001b[1;36m, line \u001b[1;32m1\u001b[0m\n\u001b[1;33m    for num in {10. 20. 30. 1}:\u001b[0m\n\u001b[1;37m                    ^\u001b[0m\n\u001b[1;31mSyntaxError\u001b[0m\u001b[1;31m:\u001b[0m invalid syntax\n"
     ]
    }
   ],
   "source": [
    "for num in {10. 20. 30. 1}:\n",
    "    print(num)"
   ]
  },
  {
   "cell_type": "code",
   "execution_count": 4,
   "metadata": {},
   "outputs": [
    {
     "name": "stdout",
     "output_type": "stream",
     "text": [
      "a\n",
      "b\n",
      "c\n"
     ]
    }
   ],
   "source": [
    "d = {\n",
    "    \"a\": 10,\n",
    "    \"b\": 20,\n",
    "    \"c\": 30\n",
    "}\n",
    "for key in d: #딕셔너리는 key값을 반환.\n",
    "    print(key)"
   ]
  },
  {
   "cell_type": "code",
   "execution_count": 6,
   "metadata": {},
   "outputs": [
    {
     "name": "stdout",
     "output_type": "stream",
     "text": [
      "a\n",
      "b\n",
      "c\n"
     ]
    }
   ],
   "source": [
    "d = {\n",
    "    \"a\":10,\n",
    "    \"b\":20,\n",
    "    \"c\":30\n",
    "}\n",
    "for key in d: #딕셔너리는 key값을 반환.\n",
    "    print(key)"
   ]
  },
  {
   "cell_type": "code",
   "execution_count": 7,
   "metadata": {},
   "outputs": [
    {
     "name": "stdout",
     "output_type": "stream",
     "text": [
      "10\n",
      "20\n",
      "30\n"
     ]
    }
   ],
   "source": [
    "for key in d:\n",
    "    print(d[key])"
   ]
  },
  {
   "cell_type": "code",
   "execution_count": 10,
   "metadata": {},
   "outputs": [
    {
     "data": {
      "text/plain": [
       "(dict_values([10, 20, 30]),\n",
       " dict_keys(['a', 'b', 'c']),\n",
       " dict_items([('a', 10), ('b', 20), ('c', 30)]))"
      ]
     },
     "execution_count": 10,
     "metadata": {},
     "output_type": "execute_result"
    }
   ],
   "source": [
    "d.values(), d.keys(), d.items()"
   ]
  },
  {
   "cell_type": "code",
   "execution_count": null,
   "metadata": {},
   "outputs": [],
   "source": [
    "# key가 \"b\"인 item의 value를 출력\n",
    "for v in d.items(): #(key, value)\n",
    "    if v[0]=='b':\n",
    "        print(v[1])"
   ]
  },
  {
   "cell_type": "code",
   "execution_count": 12,
   "metadata": {},
   "outputs": [],
   "source": [
    "lst = [\n",
    "    [1,2,3],\n",
    "    [10,20,30],\n",
    "    [100,200,300]\n",
    "]"
   ]
  },
  {
   "cell_type": "code",
   "execution_count": 13,
   "metadata": {},
   "outputs": [
    {
     "data": {
      "text/plain": [
       "3"
      ]
     },
     "execution_count": 13,
     "metadata": {},
     "output_type": "execute_result"
    }
   ],
   "source": [
    "len(lst)"
   ]
  },
  {
   "cell_type": "code",
   "execution_count": 14,
   "metadata": {},
   "outputs": [
    {
     "name": "stdout",
     "output_type": "stream",
     "text": [
      "1-2-3\n",
      "10-20-30\n",
      "100-200-300\n"
     ]
    }
   ],
   "source": [
    "for v1, v2, v3 in lst:\n",
    "    print(v1, v2, v3, sep=\"-\")"
   ]
  },
  {
   "cell_type": "code",
   "execution_count": 17,
   "metadata": {},
   "outputs": [
    {
     "name": "stdout",
     "output_type": "stream",
     "text": [
      "1\n",
      "2\n",
      "3\n",
      "10\n",
      "20\n",
      "30\n",
      "100\n",
      "200\n",
      "300\n"
     ]
    }
   ],
   "source": [
    "for l in lst: #l=[1,2,3],\n",
    "    for v in l:\n",
    "        print(v)"
   ]
  },
  {
   "cell_type": "code",
   "execution_count": null,
   "metadata": {},
   "outputs": [],
   "source": [
    "print(\"a\",\"b\",20,sep=\"/\", end=\",\")\n",
    "# end생략:엔터, sep생략:공백"
   ]
  },
  {
   "cell_type": "code",
   "execution_count": 21,
   "metadata": {},
   "outputs": [
    {
     "name": "stdout",
     "output_type": "stream",
     "text": [
      "1\n"
     ]
    }
   ],
   "source": [
    "while True:\n",
    "    print(1)\n",
    "    break"
   ]
  },
  {
   "cell_type": "code",
   "execution_count": 22,
   "metadata": {},
   "outputs": [
    {
     "name": "stdout",
     "output_type": "stream",
     "text": [
      "입력:quit\n",
      "quit\n"
     ]
    }
   ],
   "source": [
    "while True:\n",
    "    a = input(\"입력:\")\n",
    "    print(a)\n",
    "    if a == 'quit':\n",
    "        break"
   ]
  },
  {
   "cell_type": "code",
   "execution_count": 25,
   "metadata": {},
   "outputs": [
    {
     "ename": "KeyboardInterrupt",
     "evalue": "",
     "output_type": "error",
     "traceback": [
      "\u001b[1;31m---------------------------------------------------------------------------\u001b[0m",
      "\u001b[1;31mKeyboardInterrupt\u001b[0m                         Traceback (most recent call last)",
      "\u001b[1;32m<ipython-input-25-7eadaf2a1f7c>\u001b[0m in \u001b[0;36m<module>\u001b[1;34m\u001b[0m\n\u001b[0;32m      1\u001b[0m \u001b[1;32mwhile\u001b[0m \u001b[1;32mTrue\u001b[0m\u001b[1;33m:\u001b[0m\u001b[1;33m\u001b[0m\u001b[1;33m\u001b[0m\u001b[0m\n\u001b[1;32m----> 2\u001b[1;33m     \u001b[1;32mcontinue\u001b[0m\u001b[1;33m\u001b[0m\u001b[1;33m\u001b[0m\u001b[0m\n\u001b[0m\u001b[0;32m      3\u001b[0m     \u001b[0mprint\u001b[0m\u001b[1;33m(\u001b[0m\u001b[1;36m10\u001b[0m\u001b[1;33m)\u001b[0m\u001b[1;33m\u001b[0m\u001b[1;33m\u001b[0m\u001b[0m\n",
      "\u001b[1;31mKeyboardInterrupt\u001b[0m: "
     ]
    }
   ],
   "source": [
    "while True:\n",
    "    continue\n",
    "    print(10)"
   ]
  },
  {
   "cell_type": "code",
   "execution_count": 26,
   "metadata": {},
   "outputs": [
    {
     "name": "stdout",
     "output_type": "stream",
     "text": [
      "5\n",
      "10\n",
      "15\n",
      "20\n",
      "25\n",
      "30\n",
      "35\n",
      "40\n",
      "45\n",
      "50\n",
      "55\n",
      "60\n",
      "65\n",
      "70\n",
      "75\n",
      "80\n",
      "85\n",
      "90\n",
      "95\n",
      "100\n"
     ]
    }
   ],
   "source": [
    "cnt = 1\n",
    "while True:\n",
    "    if cnt % 5 == 0:\n",
    "        print(cnt)\n",
    "    cnt+=1\n",
    "    if cnt>100: #반복문을 끝낼 조건\n",
    "        break"
   ]
  },
  {
   "cell_type": "code",
   "execution_count": 30,
   "metadata": {},
   "outputs": [
    {
     "name": "stdout",
     "output_type": "stream",
     "text": [
      "3\n",
      "6\n",
      "9\n"
     ]
    }
   ],
   "source": [
    "for i in [1,2,3,4,5,6,7,8,9,10]:\n",
    "    if i % 3 != 0:\n",
    "        continue #다음거 계속 진행\n",
    "    print(i)"
   ]
  },
  {
   "cell_type": "code",
   "execution_count": 4,
   "metadata": {},
   "outputs": [],
   "source": [
    "cnt = 1\n",
    "result = [] # 값을 받을 result변수 선언\n",
    "while cnt <= 100:\n",
    "    if cnt % 5 != 0 : #5의 배수가 아니면\n",
    "        cnt += 1 # 1을 더하라\n",
    "        continue # 돌아가서 계속 진행하라\n",
    "    result.append(cnt) \n",
    "    # 5의 배수이면 if문이 실행되지 않고 바로 result.append(cnt)구문 실행.\n",
    "    # result에 cnt값을 추가하라는 명령.\n",
    "    cnt += 1 # cnt값 1증가"
   ]
  },
  {
   "cell_type": "code",
   "execution_count": 3,
   "metadata": {},
   "outputs": [
    {
     "data": {
      "text/plain": [
       "[5,\n",
       " 10,\n",
       " 15,\n",
       " 20,\n",
       " 25,\n",
       " 30,\n",
       " 35,\n",
       " 40,\n",
       " 45,\n",
       " 50,\n",
       " 55,\n",
       " 60,\n",
       " 65,\n",
       " 70,\n",
       " 75,\n",
       " 80,\n",
       " 85,\n",
       " 90,\n",
       " 95,\n",
       " 100]"
      ]
     },
     "execution_count": 3,
     "metadata": {},
     "output_type": "execute_result"
    }
   ],
   "source": [
    "result"
   ]
  },
  {
   "cell_type": "code",
   "execution_count": 6,
   "metadata": {},
   "outputs": [],
   "source": [
    "tmp_list = []\n",
    "result = []\n",
    "\n",
    "for idx, i in enumerate(range(111)): #index와 값이 같이 출력되는 함수\n",
    "        if i % 5 == 0 :\n",
    "            tmp_list.append(i)\n",
    "        if (len(tmp_list)==4) | (idx == len(range(111))-1):\n",
    "            result.append(tmp_list)"
   ]
  },
  {
   "cell_type": "code",
   "execution_count": 7,
   "metadata": {},
   "outputs": [
    {
     "data": {
      "text/plain": [
       "[[0, 5, 10, 15],\n",
       " [20, 25, 30, 35],\n",
       " [40, 45, 50, 55],\n",
       " [60, 65, 70, 75],\n",
       " [80, 85, 90, 95],\n",
       " [100, 105, 110]]"
      ]
     },
     "execution_count": 7,
     "metadata": {},
     "output_type": "execute_result"
    }
   ],
   "source": [
    "result"
   ]
  },
  {
   "cell_type": "code",
   "execution_count": 9,
   "metadata": {},
   "outputs": [
    {
     "data": {
      "text/plain": [
       "[]"
      ]
     },
     "execution_count": 9,
     "metadata": {},
     "output_type": "execute_result"
    }
   ],
   "source": [
    "tmp_list"
   ]
  },
  {
   "cell_type": "markdown",
   "metadata": {},
   "source": [
    "## range(시작정수, 종료정수, 증감정수)\n",
    "- 종료 정수 외 생략 가능"
   ]
  },
  {
   "cell_type": "code",
   "execution_count": 11,
   "metadata": {},
   "outputs": [
    {
     "name": "stdout",
     "output_type": "stream",
     "text": [
      "13579"
     ]
    }
   ],
   "source": [
    "for i in range(1,10,2):\n",
    "    print(i, end = '')"
   ]
  },
  {
   "cell_type": "code",
   "execution_count": 12,
   "metadata": {},
   "outputs": [],
   "source": [
    "s = set(range(5))"
   ]
  },
  {
   "cell_type": "code",
   "execution_count": 13,
   "metadata": {},
   "outputs": [
    {
     "data": {
      "text/plain": [
       "{0, 1, 2, 3, 4}"
      ]
     },
     "execution_count": 13,
     "metadata": {},
     "output_type": "execute_result"
    }
   ],
   "source": [
    "s"
   ]
  },
  {
   "cell_type": "code",
   "execution_count": 16,
   "metadata": {},
   "outputs": [
    {
     "name": "stdout",
     "output_type": "stream",
     "text": [
      "0 안녕\n",
      "1 안녕\n",
      "2 안녕\n",
      "3 안녕\n",
      "4 안녕\n",
      "5 안녕\n",
      "6 안녕\n",
      "7 안녕\n",
      "8 안녕\n",
      "9 안녕\n"
     ]
    }
   ],
   "source": [
    "# 변수를 '-': 반복문내에서 사용하지 않겠다. => 관례\n",
    "for _ in range(10): \n",
    "    print(_, \"안녕\")"
   ]
  },
  {
   "cell_type": "markdown",
   "metadata": {},
   "source": [
    "## enumerate(Iterable, 시작값)\n",
    "- 시작값 생략가능 "
   ]
  },
  {
   "cell_type": "code",
   "execution_count": 18,
   "metadata": {},
   "outputs": [
    {
     "name": "stdout",
     "output_type": "stream",
     "text": [
      "(0, '가')\n",
      "(1, '나')\n"
     ]
    }
   ],
   "source": [
    "str_list = ['가', '나']\n",
    "for s in enumerate(str_list):\n",
    "    print(s)\n",
    "# index를 부여하는 함수"
   ]
  },
  {
   "cell_type": "markdown",
   "metadata": {},
   "source": [
    "## zip(iterable, iterable [,....])"
   ]
  },
  {
   "cell_type": "code",
   "execution_count": 21,
   "metadata": {},
   "outputs": [],
   "source": [
    "a = [1,2,3]\n",
    "b = [10,20,30]\n",
    "c = 100,200,300,400\n",
    "d = {'가','나','다'}"
   ]
  },
  {
   "cell_type": "code",
   "execution_count": 22,
   "metadata": {},
   "outputs": [
    {
     "name": "stdout",
     "output_type": "stream",
     "text": [
      "(1, 10, 100, '다')\n",
      "(2, 20, 200, '나')\n",
      "(3, 30, 300, '가')\n"
     ]
    }
   ],
   "source": [
    "for v in zip(a,b,c,d):\n",
    "    print(v)"
   ]
  },
  {
   "cell_type": "markdown",
   "metadata": {},
   "source": [
    "## 컴프리헨션(Comprehension)"
   ]
  },
  {
   "cell_type": "code",
   "execution_count": 3,
   "metadata": {},
   "outputs": [],
   "source": [
    "lst = [1,2,3,4]"
   ]
  },
  {
   "cell_type": "code",
   "execution_count": 4,
   "metadata": {},
   "outputs": [],
   "source": [
    "lst2 = []\n",
    "for num in lst:\n",
    "    lst2.append(num+10)"
   ]
  },
  {
   "cell_type": "code",
   "execution_count": 5,
   "metadata": {},
   "outputs": [
    {
     "data": {
      "text/plain": [
       "[11, 12, 13, 14]"
      ]
     },
     "execution_count": 5,
     "metadata": {},
     "output_type": "execute_result"
    }
   ],
   "source": [
    "lst2"
   ]
  },
  {
   "cell_type": "code",
   "execution_count": 6,
   "metadata": {},
   "outputs": [
    {
     "data": {
      "text/plain": [
       "[11, 12, 13, 14]"
      ]
     },
     "execution_count": 6,
     "metadata": {},
     "output_type": "execute_result"
    }
   ],
   "source": [
    "result = [num+10 for num in lst] #리스트 컴프리헨션\n",
    "result"
   ]
  },
  {
   "cell_type": "code",
   "execution_count": 8,
   "metadata": {},
   "outputs": [
    {
     "data": {
      "text/plain": [
       "{11, 12, 13, 14}"
      ]
     },
     "execution_count": 8,
     "metadata": {},
     "output_type": "execute_result"
    }
   ],
   "source": [
    "result2 = {num+10 for num in lst} #set 컴프리헨션\n",
    "result2"
   ]
  },
  {
   "cell_type": "code",
   "execution_count": 7,
   "metadata": {},
   "outputs": [
    {
     "data": {
      "text/plain": [
       "{1: '가', 2: '가', 3: '가', 4: '가'}"
      ]
     },
     "execution_count": 7,
     "metadata": {},
     "output_type": "execute_result"
    }
   ],
   "source": [
    "result3 = {num:'가' for num in lst} #{k:v, k:v} #딕셔너리 컴프리헨션\n",
    "result3"
   ]
  },
  {
   "cell_type": "code",
   "execution_count": 10,
   "metadata": {},
   "outputs": [
    {
     "data": {
      "text/plain": [
       "[0, 10, 20, 30, 40, 50, 60, 70, 80, 90]"
      ]
     },
     "execution_count": 10,
     "metadata": {},
     "output_type": "execute_result"
    }
   ],
   "source": [
    "# num_list의 원소들 중에 10의 배수만 가지는 리스트를 생성\n",
    "result = []\n",
    "num_list = list(range(100))\n",
    "for num in num_list:\n",
    "    if num % 10 == 0:\n",
    "        result.append(num)\n",
    "result"
   ]
  },
  {
   "cell_type": "code",
   "execution_count": 11,
   "metadata": {},
   "outputs": [],
   "source": [
    "result2 = [num for num in num_list if num % 10 == 0]"
   ]
  },
  {
   "cell_type": "code",
   "execution_count": 12,
   "metadata": {},
   "outputs": [
    {
     "data": {
      "text/plain": [
       "[0, 10, 20, 30, 40, 50, 60, 70, 80, 90]"
      ]
     },
     "execution_count": 12,
     "metadata": {},
     "output_type": "execute_result"
    }
   ],
   "source": [
    "result2"
   ]
  },
  {
   "cell_type": "code",
   "execution_count": 13,
   "metadata": {},
   "outputs": [],
   "source": [
    "# [변수 for 변수 in iterable [for in 또는 if문][for in 또는 if문]"
   ]
  },
  {
   "cell_type": "code",
   "execution_count": null,
   "metadata": {},
   "outputs": [],
   "source": []
  }
 ],
 "metadata": {
  "kernelspec": {
   "display_name": "Python 3",
   "language": "python",
   "name": "python3"
  },
  "language_info": {
   "codemirror_mode": {
    "name": "ipython",
    "version": 3
   },
   "file_extension": ".py",
   "mimetype": "text/x-python",
   "name": "python",
   "nbconvert_exporter": "python",
   "pygments_lexer": "ipython3",
   "version": "3.8.5"
  }
 },
 "nbformat": 4,
 "nbformat_minor": 4
}
